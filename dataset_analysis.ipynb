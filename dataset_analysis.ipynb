{
 "cells": [
  {
   "cell_type": "code",
   "execution_count": 2,
   "id": "a6c5d0f4-741d-41cb-b548-80e01def1b9a",
   "metadata": {},
   "outputs": [],
   "source": [
    "import fireducks.pandas as pd\n",
    "from collections import Counter"
   ]
  },
  {
   "cell_type": "code",
   "execution_count": 2,
   "id": "87fbd218-6497-4ae1-9762-f6bb6301972c",
   "metadata": {},
   "outputs": [],
   "source": [
    "def analyze_dataset(file_path):\n",
    "    # Load the dataset\n",
    "    try:\n",
    "        # Assuming the dataset is in CSV format\n",
    "        df = pd.read_csv(file_path)\n",
    "    except Exception as e:\n",
    "        print(f\"Error loading dataset: {e}\")\n",
    "        return\n",
    "\n",
    "    # Print basic information about the dataset\n",
    "    print(\"Dataset Overview:\")\n",
    "    print(\"------------------\")\n",
    "    \n",
    "    # Print the shape of the dataset\n",
    "    print(f\"Number of rows: {df.shape[0]}\")\n",
    "    print(f\"Number of columns: {df.shape[1]}\")\n",
    "    \n",
    "    # Print the columns\n",
    "    print(\"\\nColumns:\")\n",
    "    print(df.columns.tolist())\n",
    "    \n",
    "    # Check for missing values\n",
    "    print(\"\\nMissing Values:\")\n",
    "    print(df.isnull().sum())\n"
   ]
  },
  {
   "cell_type": "code",
   "execution_count": 3,
   "id": "b90e281d-d960-4e36-9b94-473b6bf78431",
   "metadata": {},
   "outputs": [
    {
     "name": "stdout",
     "output_type": "stream",
     "text": [
      "Dataset Overview:\n",
      "------------------\n",
      "Number of rows: 200\n",
      "Number of columns: 6\n",
      "\n",
      "Columns:\n",
      "['question', 'propositions', 'labels', 'justification', 'answerable', 'uid']\n",
      "\n",
      "Missing Values:\n",
      "question           0\n",
      "propositions       0\n",
      "labels             0\n",
      "justification    109\n",
      "answerable         0\n",
      "uid                0\n",
      "dtype: int64\n"
     ]
    }
   ],
   "source": [
    "analyze_dataset('data/astronautics_mcqa.csv')"
   ]
  },
  {
   "cell_type": "code",
   "execution_count": 3,
   "id": "46190920-aafe-497f-9aba-7c08c93c02ca",
   "metadata": {},
   "outputs": [
    {
     "name": "stdout",
     "output_type": "stream",
     "text": [
      "                                            question  \\\n",
      "0  True or False? An object that is not accelerat...   \n",
      "1  Complete the following: During its orbital per...   \n",
      "2  Which affirmation is true when talking about E...   \n",
      "3          Why do we talk about microgravity in LEO?   \n",
      "4  To what wavelength is the atmosphere the most ...   \n",
      "\n",
      "                                             choices  \\\n",
      "0  ['True', 'False', 'Impossible to say without m...   \n",
      "1     ['remains the same', 'increases', 'decreases']   \n",
      "2  ['The potential energy is positive', 'The pote...   \n",
      "3  ['All the external forces are not cancelling e...   \n",
      "4  ['X-rays', 'Visible light', 'Infra Red', 'Radi...   \n",
      "\n",
      "                                    answer  \n",
      "0                                    False  \n",
      "1                                decreases  \n",
      "2         The potential energy is negative  \n",
      "3  The free-fall trajectory gets perturbed  \n",
      "4                              Radio Waves  \n"
     ]
    }
   ],
   "source": [
    "# drop not needed columns\n",
    "import ast\n",
    "df = pd.read_csv('data/astronautics_mcqa.csv')\n",
    "df = df.drop(['justification', 'answerable', 'uid'], axis=1)\n",
    "df = df.rename(columns={\n",
    "    'propositions': 'choices',\n",
    "})\n",
    "\n",
    "def get_actual_answer(row):\n",
    "    choices =  ast.literal_eval(row['choices'])\n",
    "    answer =  ast.literal_eval(row['labels'])\n",
    "    index = answer.index(max(answer))\n",
    "    return choices[index]\n",
    "\n",
    "df['answer'] = df.apply(get_actual_answer, axis=1)\n",
    "df = df.drop(['labels'], axis=1)\n",
    "print(df.head())"
   ]
  },
  {
   "cell_type": "code",
   "execution_count": 4,
   "id": "91077315-2fdf-4c20-90c7-1648d4f9b722",
   "metadata": {},
   "outputs": [
    {
     "name": "stdout",
     "output_type": "stream",
     "text": [
      "                                                                                                                              question                                                                                                                                                                                  choices                                  answer\n",
      "                                         True or False? An object that is not accelerating or decelerating has no forces acting on it.                                                                                                                          ['True', 'False', 'Impossible to say without more information']                                   False\n",
      "Complete the following: During its orbital period, as a planet moves farther away from the sun, the orbital velocity of the planet ...                                                                                                                                           ['remains the same', 'increases', 'decreases']                               decreases\n",
      "                                                                Which affirmation is true when talking about Earth’s potential energy?                                                ['The potential energy is positive', 'The potential energy is constant', 'The potential energy is negative', 'None of the above answers']        The potential energy is negative\n",
      "                                                                                             Why do we talk about microgravity in LEO? ['All the external forces are not cancelling exactly', 'In LEO orbits, the Earth’s gravity is not exactly zero', 'The free-fall trajectory gets perturbed', 'None of the above answers'] The free-fall trajectory gets perturbed\n",
      "                                                                            To what wavelength is the atmosphere the most transparent?                                                                                                                                  ['X-rays', 'Visible light', 'Infra Red', 'Radio Waves']                             Radio Waves\n"
     ]
    }
   ],
   "source": [
    "print(df.head().to_string(index=False))"
   ]
  },
  {
   "cell_type": "code",
   "execution_count": 7,
   "id": "dee8b008-893c-4339-b82b-29ffdab5d4c0",
   "metadata": {},
   "outputs": [
    {
     "data": {
      "text/plain": [
       "[None]"
      ]
     },
     "execution_count": 7,
     "metadata": {},
     "output_type": "execute_result"
    }
   ],
   "source": [
    "import pandas as pd\n",
    "from sklearn.model_selection import train_test_split\n",
    "train_df, test_df = train_test_split(df, test_size=0.3, random_state=42)\n",
    "\n",
    "# Save the DataFrames to CSV files\n",
    "train_df.to_csv('train_data.csv', index=False)\n",
    "test_df.to_csv('test_data.csv', index=False)"
   ]
  },
  {
   "cell_type": "code",
   "execution_count": null,
   "id": "dd801793-898c-4130-b823-e001033ef758",
   "metadata": {},
   "outputs": [],
   "source": []
  }
 ],
 "metadata": {
  "kernelspec": {
   "display_name": "Python 3 (ipykernel)",
   "language": "python",
   "name": "python3"
  },
  "language_info": {
   "codemirror_mode": {
    "name": "ipython",
    "version": 3
   },
   "file_extension": ".py",
   "mimetype": "text/x-python",
   "name": "python",
   "nbconvert_exporter": "python",
   "pygments_lexer": "ipython3",
   "version": "3.9.16"
  }
 },
 "nbformat": 4,
 "nbformat_minor": 5
}
